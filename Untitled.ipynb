{
 "cells": [
  {
   "cell_type": "code",
   "execution_count": 9,
   "metadata": {
    "ExecuteTime": {
     "end_time": "2022-01-26T12:24:03.978262Z",
     "start_time": "2022-01-26T12:24:02.044250Z"
    }
   },
   "outputs": [
    {
     "name": "stdout",
     "output_type": "stream",
     "text": [
      "Dash is running on http://127.0.0.1:8050/\n",
      "\n",
      "Dash is running on http://127.0.0.1:8050/\n",
      "\n",
      "Dash is running on http://127.0.0.1:8050/\n",
      "\n",
      "Dash is running on http://127.0.0.1:8050/\n",
      "\n",
      "Dash is running on http://127.0.0.1:8050/\n",
      "\n",
      "Dash is running on http://127.0.0.1:8050/\n",
      "\n",
      " * Serving Flask app \"__main__\" (lazy loading)\n",
      " * Environment: production\n",
      "   WARNING: This is a development server. Do not use it in a production deployment.\n",
      "   Use a production WSGI server instead.\n",
      " * Debug mode: on\n"
     ]
    },
    {
     "ename": "SystemExit",
     "evalue": "1",
     "output_type": "error",
     "traceback": [
      "An exception has occurred, use %tb to see the full traceback.\n",
      "\u001b[1;31mSystemExit\u001b[0m\u001b[1;31m:\u001b[0m 1\n"
     ]
    },
    {
     "name": "stderr",
     "output_type": "stream",
     "text": [
      "C:\\Users\\krama\\anaconda3\\lib\\site-packages\\IPython\\core\\interactiveshell.py:3426: UserWarning:\n",
      "\n",
      "To exit: use 'exit', 'quit', or Ctrl-D.\n",
      "\n"
     ]
    }
   ],
   "source": [
    "import plotly\n",
    "import dash\n",
    "import dash_core_components as dcc\n",
    "import dash_html_components as html\n",
    "import dash_table\n",
    "import dash_bootstrap_components as dbc\n",
    "import pandas as pd\n",
    "import xlsxwriter\n",
    "from datetime import datetime\n",
    "from datetime import timedelta\n",
    "from scipy import stats\n",
    "import plotly.graph_objs as go\n",
    "import os\n",
    "import numpy as np\n",
    "from dash.dependencies import Input, Output, State\n",
    "import plotly.express as px\n",
    "import base64\n",
    "import datetime\n",
    "import io\n",
    "from datetime import date\n",
    "\n",
    "app = dash.Dash(external_stylesheets=[dbc.themes.BOOTSTRAP])\n",
    "app.layout = html.Div([\n",
    "    html.Div([\n",
    "        html.Br(),\n",
    "        html.Br()\n",
    "    ]),\n",
    "    dbc.Tabs([\n",
    "        dbc.Tab(html.Div([]), label= 'Stat'),\n",
    "        dbc.Tab(html.Div([]), label= 'Issues')\n",
    "    ])\n",
    "])\n",
    "\n",
    "if  __name__ == '__main__':\n",
    "    app.run_server(debug=True)"
   ]
  },
  {
   "cell_type": "code",
   "execution_count": 3,
   "metadata": {
    "ExecuteTime": {
     "end_time": "2022-02-23T12:09:30.253233Z",
     "start_time": "2022-02-23T12:09:30.124886Z"
    }
   },
   "outputs": [],
   "source": [
    "import pandas as pd\n",
    "db_data = pd.read_csv('C:/Users/krama/Documents/work/SKF/Vibration - Analyst/Scripts/Customers DB validation/CAAEO07.csv', sep = ';')"
   ]
  },
  {
   "cell_type": "code",
   "execution_count": 4,
   "metadata": {
    "ExecuteTime": {
     "end_time": "2022-02-23T12:11:24.167459Z",
     "start_time": "2022-02-23T12:09:30.900451Z"
    }
   },
   "outputs": [],
   "source": [
    "def define_path(data):\n",
    "    path = [[x] for x in data[:, 2]]\n",
    "    levels = np.unique(data[:, 4])\n",
    "    data = np.insert(data, 5, '', axis =1)\n",
    "    for level in levels:\n",
    "        if level == 0:\n",
    "            continue\n",
    "        tmp_df = data[(data[:,4] == level)]\n",
    "        for element in np.unique(tmp_df[:, 0]):\n",
    "            parent_id = data[data[:, 0] == element, 1]\n",
    "            parent_path = data[data[:, 0] == parent_id, 5]\n",
    "            element_name = data[data[:, 0] == element, 2]\n",
    "            try:\n",
    "                data[data[:, 0] == element, 5] = parent_path + \"/\" + element_name\n",
    "            except:\n",
    "                print(parent_id, element_name, element)\n",
    "                pass\n",
    "    data = pd.DataFrame(data)\n",
    "    data.columns = ['TREEELEMID', 'PARENTID', 'NAME', 'CONTAINERTYPE', 'BRANCHLEVEL', 'Path']\n",
    "    return data\n",
    "\n",
    "for_path = np.array(db_data[['TREEELEMID', 'PARENTID', 'NAME', 'CONTAINERTYPE', 'BRANCHLEVEL']])\n",
    "pathdf = define_path(for_path)"
   ]
  },
  {
   "cell_type": "code",
   "execution_count": 5,
   "metadata": {
    "ExecuteTime": {
     "end_time": "2022-02-23T12:14:22.386628Z",
     "start_time": "2022-02-23T12:14:22.369646Z"
    }
   },
   "outputs": [],
   "source": [
    "tmp_db = db_data[db_data.CONTAINERTYPE != 4]"
   ]
  },
  {
   "cell_type": "code",
   "execution_count": 6,
   "metadata": {
    "ExecuteTime": {
     "end_time": "2022-02-23T12:15:04.311896Z",
     "start_time": "2022-02-23T12:15:03.850572Z"
    }
   },
   "outputs": [],
   "source": [
    "for_path1 = np.array(tmp_db[['TREEELEMID', 'PARENTID', 'NAME', 'CONTAINERTYPE', 'BRANCHLEVEL']])\n",
    "pathdf1 = define_path(for_path1)"
   ]
  },
  {
   "cell_type": "code",
   "execution_count": 20,
   "metadata": {
    "ExecuteTime": {
     "end_time": "2022-02-23T12:22:06.229620Z",
     "start_time": "2022-02-23T12:22:06.175521Z"
    }
   },
   "outputs": [],
   "source": [
    "tmp2 = pd.merge(db_data, pathdf1[['TREEELEMID', 'Path']], how = 'left', on = 'TREEELEMID')"
   ]
  },
  {
   "cell_type": "code",
   "execution_count": 21,
   "metadata": {
    "ExecuteTime": {
     "end_time": "2022-02-23T12:22:14.472926Z",
     "start_time": "2022-02-23T12:22:07.311330Z"
    }
   },
   "outputs": [],
   "source": [
    "for asset in tmp2.loc[tmp2.CONTAINERTYPE == 3, 'TREEELEMID']:\n",
    "    tmp2.loc[tmp2.PARENTID == asset, 'Path'] = tmp2.loc[tmp2.TREEELEMID == asset, 'Path'].item()"
   ]
  },
  {
   "cell_type": "code",
   "execution_count": 22,
   "metadata": {
    "ExecuteTime": {
     "end_time": "2022-02-23T12:22:28.583467Z",
     "start_time": "2022-02-23T12:22:28.566482Z"
    }
   },
   "outputs": [],
   "source": [
    "tmp2['Path'] = tmp2['Path'] + '/' + tmp2['NAME']"
   ]
  },
  {
   "cell_type": "code",
   "execution_count": 24,
   "metadata": {
    "ExecuteTime": {
     "end_time": "2022-02-23T12:22:46.071019Z",
     "start_time": "2022-02-23T12:22:46.064027Z"
    }
   },
   "outputs": [
    {
     "data": {
      "text/plain": [
       "'/SLA/SLA Route 01/1595A,K1-98,KERR#1/1595A MTR/01HE3 NDE'"
      ]
     },
     "execution_count": 24,
     "metadata": {},
     "output_type": "execute_result"
    }
   ],
   "source": [
    "tmp2['Path'][1]"
   ]
  },
  {
   "cell_type": "code",
   "execution_count": null,
   "metadata": {},
   "outputs": [],
   "source": []
  }
 ],
 "metadata": {
  "kernelspec": {
   "display_name": "Python 3 (ipykernel)",
   "language": "python",
   "name": "python3"
  },
  "language_info": {
   "codemirror_mode": {
    "name": "ipython",
    "version": 3
   },
   "file_extension": ".py",
   "mimetype": "text/x-python",
   "name": "python",
   "nbconvert_exporter": "python",
   "pygments_lexer": "ipython3",
   "version": "3.9.7"
  },
  "varInspector": {
   "cols": {
    "lenName": 16,
    "lenType": 16,
    "lenVar": 40
   },
   "kernels_config": {
    "python": {
     "delete_cmd_postfix": "",
     "delete_cmd_prefix": "del ",
     "library": "var_list.py",
     "varRefreshCmd": "print(var_dic_list())"
    },
    "r": {
     "delete_cmd_postfix": ") ",
     "delete_cmd_prefix": "rm(",
     "library": "var_list.r",
     "varRefreshCmd": "cat(var_dic_list()) "
    }
   },
   "types_to_exclude": [
    "module",
    "function",
    "builtin_function_or_method",
    "instance",
    "_Feature"
   ],
   "window_display": true
  }
 },
 "nbformat": 4,
 "nbformat_minor": 4
}
